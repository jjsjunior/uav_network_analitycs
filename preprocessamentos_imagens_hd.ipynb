{
 "cells": [
  {
   "cell_type": "code",
   "execution_count": 1,
   "id": "f14f19e3",
   "metadata": {},
   "outputs": [],
   "source": [
    "import cv2\n",
    "from PIL import Image\n",
    "import os\n",
    "import statistics\n",
    "import numpy as np"
   ]
  },
  {
   "cell_type": "code",
   "execution_count": 6,
   "id": "3e4b4c62",
   "metadata": {},
   "outputs": [
    {
     "data": {
      "text/plain": [
       "11.343689918518066"
      ]
     },
     "execution_count": 6,
     "metadata": {},
     "output_type": "execute_result"
    }
   ],
   "source": [
    "os.path.getsize('/media/jones/dataset/projetos/ufg/uav/originais/0067.jpg')/(1024*1024)"
   ]
  },
  {
   "cell_type": "code",
   "execution_count": 13,
   "id": "bafd7e7b",
   "metadata": {},
   "outputs": [],
   "source": [
    "def print_statistics(list_file, name):\n",
    "    print('#### {} ####'.format(name))\n",
    "    print('max: {}'.format(max(list_file)))\n",
    "    print('min: {}'.format(min(list_file)))\n",
    "    print('mean: {}'.format(statistics.mean(list_file)))\n",
    "    print('stdev: {}'.format(statistics.stdev(list_file)))"
   ]
  },
  {
   "cell_type": "code",
   "execution_count": 14,
   "id": "9aa45f45",
   "metadata": {},
   "outputs": [
    {
     "name": "stdout",
     "output_type": "stream",
     "text": [
      "#### height ####\n",
      "max: 6000\n",
      "min: 800\n",
      "mean: 4811.196172248804\n",
      "stdev: 1199.9668677201255\n",
      "#### width ####\n",
      "max: 4000\n",
      "min: 600\n",
      "mean: 3005.7894736842104\n",
      "stdev: 968.0812425372868\n",
      "#### size ####\n",
      "max: 11.343689918518066\n",
      "min: 0.03049468994140625\n",
      "mean: 4.761495193225915\n",
      "stdev: 4.773681211489152\n"
     ]
    }
   ],
   "source": [
    "dir_images = '/media/jones/dataset/projetos/ufg/uav/originais'\n",
    "height_lst = []\n",
    "width_lst = []\n",
    "size_lst = []\n",
    "for (dirpath, dirnames, filenames) in os.walk(dir_images):\n",
    "    for filename in filenames:\n",
    "        abs_filename = os.path.abspath(os.path.join(dirpath, filename))\n",
    "        size = os.path.getsize(abs_filename)/(1024*1024)\n",
    "        image = Image.open(abs_filename)\n",
    "        h, w = image.size\n",
    "        height_lst.append(h)\n",
    "        width_lst.append(w)\n",
    "        size_lst.append(size)\n",
    "print_statistics(height_lst, 'height')\n",
    "print_statistics(width_lst, 'width')\n",
    "print_statistics(size_lst, 'size')"
   ]
  },
  {
   "cell_type": "code",
   "execution_count": 16,
   "id": "d4f5862d",
   "metadata": {},
   "outputs": [
    {
     "name": "stdout",
     "output_type": "stream",
     "text": [
      "#### height ####\n",
      "max: 6000\n",
      "min: 800\n",
      "mean: 4792.057416267942\n",
      "stdev: 1227.4567744838798\n",
      "#### width ####\n",
      "max: 4000\n",
      "min: 600\n",
      "mean: 2994.066985645933\n",
      "stdev: 979.8033361565359\n",
      "#### size ####\n",
      "max: 1.110520362854004\n",
      "min: 0.0063457489013671875\n",
      "mean: 0.33463876897638495\n",
      "stdev: 0.16302039894087858\n"
     ]
    }
   ],
   "source": [
    "dir_images = '/media/jones/dataset/projetos/ufg/uav/corrompidas/'\n",
    "height_lst = []\n",
    "width_lst = []\n",
    "size_lst = []\n",
    "for (dirpath, dirnames, filenames) in os.walk(dir_images):\n",
    "    for filename in filenames:\n",
    "        abs_filename = os.path.abspath(os.path.join(dirpath, filename))\n",
    "        size = os.path.getsize(abs_filename)/(1024*1024)\n",
    "        image = Image.open(abs_filename)\n",
    "        h, w = image.size\n",
    "        height_lst.append(h)\n",
    "        width_lst.append(w)\n",
    "        size_lst.append(size)\n",
    "print_statistics(height_lst, 'height')\n",
    "print_statistics(width_lst, 'width')\n",
    "print_statistics(size_lst, 'size')"
   ]
  },
  {
   "cell_type": "code",
   "execution_count": 4,
   "id": "bcfbf3b4",
   "metadata": {},
   "outputs": [
    {
     "name": "stderr",
     "output_type": "stream",
     "text": [
      "Using TensorFlow backend.\n",
      "/media/jones/dataset/alpr/conda_env/lib/python3.7/site-packages/tensorflow/python/framework/dtypes.py:516: FutureWarning: Passing (type, 1) or '1type' as a synonym of type is deprecated; in a future version of numpy, it will be understood as (type, (1,)) / '(1,)type'.\n",
      "  _np_qint8 = np.dtype([(\"qint8\", np.int8, 1)])\n",
      "/media/jones/dataset/alpr/conda_env/lib/python3.7/site-packages/tensorflow/python/framework/dtypes.py:517: FutureWarning: Passing (type, 1) or '1type' as a synonym of type is deprecated; in a future version of numpy, it will be understood as (type, (1,)) / '(1,)type'.\n",
      "  _np_quint8 = np.dtype([(\"quint8\", np.uint8, 1)])\n",
      "/media/jones/dataset/alpr/conda_env/lib/python3.7/site-packages/tensorflow/python/framework/dtypes.py:518: FutureWarning: Passing (type, 1) or '1type' as a synonym of type is deprecated; in a future version of numpy, it will be understood as (type, (1,)) / '(1,)type'.\n",
      "  _np_qint16 = np.dtype([(\"qint16\", np.int16, 1)])\n",
      "/media/jones/dataset/alpr/conda_env/lib/python3.7/site-packages/tensorflow/python/framework/dtypes.py:519: FutureWarning: Passing (type, 1) or '1type' as a synonym of type is deprecated; in a future version of numpy, it will be understood as (type, (1,)) / '(1,)type'.\n",
      "  _np_quint16 = np.dtype([(\"quint16\", np.uint16, 1)])\n",
      "/media/jones/dataset/alpr/conda_env/lib/python3.7/site-packages/tensorflow/python/framework/dtypes.py:520: FutureWarning: Passing (type, 1) or '1type' as a synonym of type is deprecated; in a future version of numpy, it will be understood as (type, (1,)) / '(1,)type'.\n",
      "  _np_qint32 = np.dtype([(\"qint32\", np.int32, 1)])\n",
      "/media/jones/dataset/alpr/conda_env/lib/python3.7/site-packages/tensorflow/python/framework/dtypes.py:525: FutureWarning: Passing (type, 1) or '1type' as a synonym of type is deprecated; in a future version of numpy, it will be understood as (type, (1,)) / '(1,)type'.\n",
      "  np_resource = np.dtype([(\"resource\", np.ubyte, 1)])\n",
      "/media/jones/dataset/alpr/conda_env/lib/python3.7/site-packages/tensorboard/compat/tensorflow_stub/dtypes.py:541: FutureWarning: Passing (type, 1) or '1type' as a synonym of type is deprecated; in a future version of numpy, it will be understood as (type, (1,)) / '(1,)type'.\n",
      "  _np_qint8 = np.dtype([(\"qint8\", np.int8, 1)])\n",
      "/media/jones/dataset/alpr/conda_env/lib/python3.7/site-packages/tensorboard/compat/tensorflow_stub/dtypes.py:542: FutureWarning: Passing (type, 1) or '1type' as a synonym of type is deprecated; in a future version of numpy, it will be understood as (type, (1,)) / '(1,)type'.\n",
      "  _np_quint8 = np.dtype([(\"quint8\", np.uint8, 1)])\n",
      "/media/jones/dataset/alpr/conda_env/lib/python3.7/site-packages/tensorboard/compat/tensorflow_stub/dtypes.py:543: FutureWarning: Passing (type, 1) or '1type' as a synonym of type is deprecated; in a future version of numpy, it will be understood as (type, (1,)) / '(1,)type'.\n",
      "  _np_qint16 = np.dtype([(\"qint16\", np.int16, 1)])\n",
      "/media/jones/dataset/alpr/conda_env/lib/python3.7/site-packages/tensorboard/compat/tensorflow_stub/dtypes.py:544: FutureWarning: Passing (type, 1) or '1type' as a synonym of type is deprecated; in a future version of numpy, it will be understood as (type, (1,)) / '(1,)type'.\n",
      "  _np_quint16 = np.dtype([(\"quint16\", np.uint16, 1)])\n",
      "/media/jones/dataset/alpr/conda_env/lib/python3.7/site-packages/tensorboard/compat/tensorflow_stub/dtypes.py:545: FutureWarning: Passing (type, 1) or '1type' as a synonym of type is deprecated; in a future version of numpy, it will be understood as (type, (1,)) / '(1,)type'.\n",
      "  _np_qint32 = np.dtype([(\"qint32\", np.int32, 1)])\n",
      "/media/jones/dataset/alpr/conda_env/lib/python3.7/site-packages/tensorboard/compat/tensorflow_stub/dtypes.py:550: FutureWarning: Passing (type, 1) or '1type' as a synonym of type is deprecated; in a future version of numpy, it will be understood as (type, (1,)) / '(1,)type'.\n",
      "  np_resource = np.dtype([(\"resource\", np.ubyte, 1)])\n"
     ]
    }
   ],
   "source": [
    "from efficientnet.keras import center_crop_and_resize, preprocess_input"
   ]
  },
  {
   "cell_type": "code",
   "execution_count": 25,
   "id": "a36fe859",
   "metadata": {},
   "outputs": [
    {
     "name": "stdout",
     "output_type": "stream",
     "text": [
      "(6000, 4000)\n",
      "(450, 450, 3)\n"
     ]
    }
   ],
   "source": [
    "# sample = '/media/jones/dataset/projetos/ufg/uav/originais/0067.jpg'\n",
    "image = Image.open(sample)\n",
    "print(image.size)\n",
    "resized_image_np = center_crop_and_resize(np.array(image), 450)\n",
    "print(resized_image_np.shape)\n",
    "resized_image_np = resized_image_np.astype(np.uint8)\n",
    "resized_image = Image.fromarray(resized_image_np)\n",
    "resized_image.save('redimensionada.jpg', \"JPEG\", quality=30, dpi=(300,300))"
   ]
  },
  {
   "cell_type": "code",
   "execution_count": 7,
   "id": "a84d14c7",
   "metadata": {},
   "outputs": [],
   "source": [
    "def resize_image(path_image):\n",
    "    image = Image.open(path_image)\n",
    "    resized_image_np = center_crop_and_resize(np.array(image), 450)\n",
    "    resized_image_np = resized_image_np.astype(np.uint8)\n",
    "    resized_image = Image.fromarray(resized_image_np)\n",
    "    return resized_image\n",
    "    "
   ]
  },
  {
   "cell_type": "code",
   "execution_count": 32,
   "id": "b80b1318",
   "metadata": {},
   "outputs": [],
   "source": [
    "dir_images_corrompidas = '/media/jones/dataset/projetos/ufg/uav/corrompidas/'\n",
    "height_lst = []\n",
    "width_lst = []\n",
    "size_lst = []\n",
    "for (dirpath, dirnames, filenames) in os.walk(dir_images_corrompidas):\n",
    "    for filename in filenames:\n",
    "        abs_filename = os.path.abspath(os.path.join(dirpath, filename))\n",
    "        resized_image = resize_image(abs_filename)\n",
    "        abs_filename = abs_filename.replace('corrompidas','corrompidas_450')\n",
    "        resized_image.save(abs_filename, \"JPEG\", quality=30, dpi=(300,300))"
   ]
  },
  {
   "cell_type": "code",
   "execution_count": 33,
   "id": "e2da6269",
   "metadata": {},
   "outputs": [],
   "source": [
    "dir_images_raw = '/media/jones/dataset/projetos/ufg/uav/originais/'\n",
    "height_lst = []\n",
    "width_lst = []\n",
    "size_lst = []\n",
    "for (dirpath, dirnames, filenames) in os.walk(dir_images_raw):\n",
    "    for filename in filenames:\n",
    "        abs_filename = os.path.abspath(os.path.join(dirpath, filename))\n",
    "        resized_image = resize_image(abs_filename)\n",
    "        abs_filename = abs_filename.replace('originais','originais_450')\n",
    "        resized_image.save(abs_filename, \"JPEG\", quality=30, dpi=(300,300))"
   ]
  },
  {
   "cell_type": "code",
   "execution_count": 36,
   "id": "ec5d081b",
   "metadata": {},
   "outputs": [
    {
     "name": "stdout",
     "output_type": "stream",
     "text": [
      "#### height ####\n",
      "max: 450\n",
      "min: 450\n",
      "mean: 450\n",
      "stdev: 0.0\n",
      "#### width ####\n",
      "max: 450\n",
      "min: 450\n",
      "mean: 450\n",
      "stdev: 0.0\n",
      "#### size ####\n",
      "max: 0.028290748596191406\n",
      "min: 0.0038051605224609375\n",
      "mean: 0.013024646129334372\n",
      "stdev: 0.0031998533162944185\n"
     ]
    }
   ],
   "source": [
    "dir_images = '/media/jones/dataset/projetos/ufg/uav/corrompidas_450/'\n",
    "height_lst = []\n",
    "width_lst = []\n",
    "size_lst = []\n",
    "for (dirpath, dirnames, filenames) in os.walk(dir_images):\n",
    "    for filename in filenames:\n",
    "        abs_filename = os.path.abspath(os.path.join(dirpath, filename))\n",
    "        size = os.path.getsize(abs_filename)/(1024*1024)\n",
    "        image = Image.open(abs_filename)\n",
    "        h, w = image.size\n",
    "        height_lst.append(h)\n",
    "        width_lst.append(w)\n",
    "        size_lst.append(size)\n",
    "print_statistics(height_lst, 'height')\n",
    "print_statistics(width_lst, 'width')\n",
    "print_statistics(size_lst, 'size')"
   ]
  },
  {
   "cell_type": "code",
   "execution_count": 37,
   "id": "450cf39c",
   "metadata": {},
   "outputs": [
    {
     "name": "stdout",
     "output_type": "stream",
     "text": [
      "#### height ####\n",
      "max: 450\n",
      "min: 450\n",
      "mean: 450\n",
      "stdev: 0.0\n",
      "#### width ####\n",
      "max: 450\n",
      "min: 450\n",
      "mean: 450\n",
      "stdev: 0.0\n",
      "#### size ####\n",
      "max: 0.026503562927246094\n",
      "min: 0.004265785217285156\n",
      "mean: 0.015916567670101182\n",
      "stdev: 0.0028600202898230974\n"
     ]
    }
   ],
   "source": [
    "dir_images = '/media/jones/dataset/projetos/ufg/uav/originais_450/'\n",
    "height_lst = []\n",
    "width_lst = []\n",
    "size_lst = []\n",
    "for (dirpath, dirnames, filenames) in os.walk(dir_images):\n",
    "    for filename in filenames:\n",
    "        abs_filename = os.path.abspath(os.path.join(dirpath, filename))\n",
    "        size = os.path.getsize(abs_filename)/(1024*1024)\n",
    "        image = Image.open(abs_filename)\n",
    "        h, w = image.size\n",
    "        height_lst.append(h)\n",
    "        width_lst.append(w)\n",
    "        size_lst.append(size)\n",
    "print_statistics(height_lst, 'height')\n",
    "print_statistics(width_lst, 'width')\n",
    "print_statistics(size_lst, 'size')"
   ]
  },
  {
   "cell_type": "code",
   "execution_count": 39,
   "id": "5b39df78",
   "metadata": {},
   "outputs": [],
   "source": [
    "dir_images_corrompidas = '/media/jones/dataset/projetos/ufg/uav/corrompidas/'\n",
    "height_lst = []\n",
    "width_lst = []\n",
    "size_lst = []\n",
    "for (dirpath, dirnames, filenames) in os.walk(dir_images_corrompidas):\n",
    "    for filename in filenames:\n",
    "        abs_filename = os.path.abspath(os.path.join(dirpath, filename))\n",
    "        resized_image = resize_image(abs_filename)\n",
    "        abs_filename = abs_filename.replace('corrompidas','corrompidas_225')\n",
    "        resized_image.save(abs_filename, \"JPEG\", quality=30, dpi=(200,200))"
   ]
  },
  {
   "cell_type": "code",
   "execution_count": 40,
   "id": "9ffc6c46",
   "metadata": {},
   "outputs": [],
   "source": [
    "dir_images_raw = '/media/jones/dataset/projetos/ufg/uav/originais/'\n",
    "height_lst = []\n",
    "width_lst = []\n",
    "size_lst = []\n",
    "for (dirpath, dirnames, filenames) in os.walk(dir_images_raw):\n",
    "    for filename in filenames:\n",
    "        abs_filename = os.path.abspath(os.path.join(dirpath, filename))\n",
    "        resized_image = resize_image(abs_filename)\n",
    "        abs_filename = abs_filename.replace('originais','originais_225')\n",
    "        resized_image.save(abs_filename, \"JPEG\", quality=30, dpi=(200,200))"
   ]
  },
  {
   "cell_type": "code",
   "execution_count": 8,
   "id": "7f45e3ad",
   "metadata": {},
   "outputs": [],
   "source": [
    "dir_images_corrompidas = '/media/jones/dataset/projetos/ufg/uav/benchmark_person_detection/original_frames/'\n",
    "height_lst = []\n",
    "width_lst = []\n",
    "size_lst = []\n",
    "for (dirpath, dirnames, filenames) in os.walk(dir_images_corrompidas):\n",
    "    for filename in filenames:\n",
    "        abs_filename = os.path.abspath(os.path.join(dirpath, filename))\n",
    "        resized_image = resize_image(abs_filename)\n",
    "        abs_filename = abs_filename.replace('original_frames','original_frames_450')\n",
    "        resized_image.save(abs_filename, \"JPEG\", quality=30, dpi=(200,200))"
   ]
  },
  {
   "cell_type": "code",
   "execution_count": 9,
   "id": "1043eeb6",
   "metadata": {},
   "outputs": [],
   "source": [
    "dir_images_corrompidas = '/media/jones/dataset/projetos/ufg/uav/benchmark_person_detection/loss_frames/'\n",
    "height_lst = []\n",
    "width_lst = []\n",
    "size_lst = []\n",
    "for (dirpath, dirnames, filenames) in os.walk(dir_images_corrompidas):\n",
    "    for filename in filenames:\n",
    "        abs_filename = os.path.abspath(os.path.join(dirpath, filename))\n",
    "        resized_image = resize_image(abs_filename)\n",
    "        abs_filename = abs_filename.replace('loss_frames','loss_frames_450')\n",
    "        resized_image.save(abs_filename, \"JPEG\", quality=30, dpi=(200,200))"
   ]
  },
  {
   "cell_type": "code",
   "execution_count": null,
   "id": "9f47b9f1",
   "metadata": {},
   "outputs": [],
   "source": []
  }
 ],
 "metadata": {
  "kernelspec": {
   "display_name": "alpr",
   "language": "python",
   "name": "alpr"
  },
  "language_info": {
   "codemirror_mode": {
    "name": "ipython",
    "version": 3
   },
   "file_extension": ".py",
   "mimetype": "text/x-python",
   "name": "python",
   "nbconvert_exporter": "python",
   "pygments_lexer": "ipython3",
   "version": "3.7.10"
  }
 },
 "nbformat": 4,
 "nbformat_minor": 5
}
